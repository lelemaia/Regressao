{
  "cells": [
    {
      "cell_type": "markdown",
      "metadata": {
        "id": "view-in-github",
        "colab_type": "text"
      },
      "source": [
        "<a href=\"https://colab.research.google.com/github/lelemaia/Regressao-/blob/main/Regress%C3%A3o_(1).ipynb\" target=\"_parent\"><img src=\"https://colab.research.google.com/assets/colab-badge.svg\" alt=\"Open In Colab\"/></a>"
      ]
    },
    {
      "cell_type": "markdown",
      "id": "dc2dbf66",
      "metadata": {
        "id": "dc2dbf66"
      },
      "source": [
        "# Aula 18 - Introdução ao Aprendizado Supervisionado: Regressão\n",
        "\n",
        "Nesta aula vamos estudar o uso de algoritmos de **Aprendizado de Máquina Supervisionado**. Focaremos nos algoritmos utilizados para **regressão**, que é a tarefa de predizer valores de saída (dados numéricos) para conjuntos de dados de entrada (numéricos ou transformados em numéricos).\n",
        "\n",
        "Existem muitos algoritmos para se realizar essa tarefa, entre eles:\n",
        "- Regressão Linear \n",
        "- Redes Neurais\n",
        "- Árvores de Decisão\n",
        "- RandomForest\n",
        "- Support Vector Regression (SVR)\n",
        "\n",
        "Cada uma dessas técnicas tem uma forte base matemática e conceitual. Os algoritmos foram propostos ao longo de diversas décadas e possuem diferentes cenários de aplicações. Não teremos tempo de ver cada um deles a fundo, nem mesmo todos eles. Iremos nos focar nos procedimentos básicos para se utilizar esses algoritmos.\n",
        "\n",
        "--------------------------"
      ]
    },
    {
      "cell_type": "markdown",
      "id": "b8333f3a",
      "metadata": {
        "id": "b8333f3a"
      },
      "source": [
        "## Exemplo 1 - Preço de Casas\n",
        "\n",
        "\n",
        "Foram medidos os preços de casas vendidas entre Maio de 2014 e Maio de 2015 em Seattle. Foram anotados 21 atributos descritivos destas casas, como número de quartos e número de banheiros, entre outros.\n",
        "\n",
        "Os dados estão diponíveis em: https://www.openml.org/d/42731\n",
        "\n",
        "Será que é possível usar as características das casas para predizer qual deveria ser o seu valor de venda?"
      ]
    },
    {
      "cell_type": "markdown",
      "id": "6b64d03c",
      "metadata": {
        "id": "6b64d03c"
      },
      "source": [
        "### Exemplo 1 - Primeiro passo: carregar os dados"
      ]
    },
    {
      "cell_type": "code",
      "execution_count": 1,
      "id": "d0c90eb6",
      "metadata": {
        "id": "d0c90eb6"
      },
      "outputs": [],
      "source": [
        "# Para trabalhar com dados em tabelas\n",
        "import pandas as pd\n",
        "\n",
        "# Para trabalhar com dados do OpenML\n",
        "from sklearn.datasets import fetch_openml\n",
        "\n",
        "# Para trabalhar com gráficos\n",
        "import seaborn as sns\n",
        "import matplotlib.pyplot as plt"
      ]
    },
    {
      "cell_type": "code",
      "execution_count": 2,
      "id": "6fbef8e5",
      "metadata": {
        "id": "6fbef8e5"
      },
      "outputs": [],
      "source": [
        "dados = fetch_openml(data_id=42731)"
      ]
    },
    {
      "cell_type": "code",
      "execution_count": 3,
      "id": "215182ab",
      "metadata": {
        "id": "215182ab",
        "outputId": "6950fcb1-b8f4-4b77-fb56-501c74612911",
        "colab": {
          "base_uri": "https://localhost:8080/"
        }
      },
      "outputs": [
        {
          "output_type": "execute_result",
          "data": {
            "text/plain": [
              "{'data':        bedrooms  bathrooms  sqft_living  sqft_lot  floors  waterfront  view  \\\n",
              " 0           3.0       1.00       1180.0    5650.0     1.0         0.0   0.0   \n",
              " 1           3.0       2.25       2570.0    7242.0     2.0         0.0   0.0   \n",
              " 2           2.0       1.00        770.0   10000.0     1.0         0.0   0.0   \n",
              " 3           4.0       3.00       1960.0    5000.0     1.0         0.0   0.0   \n",
              " 4           3.0       2.00       1680.0    8080.0     1.0         0.0   0.0   \n",
              " ...         ...        ...          ...       ...     ...         ...   ...   \n",
              " 21608       3.0       2.50       1530.0    1131.0     3.0         0.0   0.0   \n",
              " 21609       4.0       2.50       2310.0    5813.0     2.0         0.0   0.0   \n",
              " 21610       2.0       0.75       1020.0    1350.0     2.0         0.0   0.0   \n",
              " 21611       3.0       2.50       1600.0    2388.0     2.0         0.0   0.0   \n",
              " 21612       2.0       0.75       1020.0    1076.0     2.0         0.0   0.0   \n",
              " \n",
              "        condition  grade  sqft_above  ...  yr_built  yr_renovated  zipcode  \\\n",
              " 0            3.0    7.0      1180.0  ...    1955.0           0.0    98178   \n",
              " 1            3.0    7.0      2170.0  ...    1951.0        1991.0    98125   \n",
              " 2            3.0    6.0       770.0  ...    1933.0           0.0    98028   \n",
              " 3            5.0    7.0      1050.0  ...    1965.0           0.0    98136   \n",
              " 4            3.0    8.0      1680.0  ...    1987.0           0.0    98074   \n",
              " ...          ...    ...         ...  ...       ...           ...      ...   \n",
              " 21608        3.0    8.0      1530.0  ...    2009.0           0.0    98103   \n",
              " 21609        3.0    8.0      2310.0  ...    2014.0           0.0    98146   \n",
              " 21610        3.0    7.0      1020.0  ...    2009.0           0.0    98144   \n",
              " 21611        3.0    8.0      1600.0  ...    2004.0           0.0    98027   \n",
              " 21612        3.0    7.0      1020.0  ...    2008.0           0.0    98144   \n",
              " \n",
              "            lat     long  sqft_living15  sqft_lot15  date_year  date_month  \\\n",
              " 0      47.5112 -122.257         1340.0      5650.0     2014.0        10.0   \n",
              " 1      47.7210 -122.319         1690.0      7639.0     2014.0        12.0   \n",
              " 2      47.7379 -122.233         2720.0      8062.0     2015.0         2.0   \n",
              " 3      47.5208 -122.393         1360.0      5000.0     2014.0        12.0   \n",
              " 4      47.6168 -122.045         1800.0      7503.0     2015.0         2.0   \n",
              " ...        ...      ...            ...         ...        ...         ...   \n",
              " 21608  47.6993 -122.346         1530.0      1509.0     2014.0         5.0   \n",
              " 21609  47.5107 -122.362         1830.0      7200.0     2015.0         2.0   \n",
              " 21610  47.5944 -122.299         1020.0      2007.0     2014.0         6.0   \n",
              " 21611  47.5345 -122.069         1410.0      1287.0     2015.0         1.0   \n",
              " 21612  47.5941 -122.299         1020.0      1357.0     2014.0        10.0   \n",
              " \n",
              "        date_day  \n",
              " 0          13.0  \n",
              " 1           9.0  \n",
              " 2          25.0  \n",
              " 3           9.0  \n",
              " 4          18.0  \n",
              " ...         ...  \n",
              " 21608      21.0  \n",
              " 21609      23.0  \n",
              " 21610      23.0  \n",
              " 21611      16.0  \n",
              " 21612      15.0  \n",
              " \n",
              " [21613 rows x 21 columns], 'target': 0        221900.0\n",
              " 1        538000.0\n",
              " 2        180000.0\n",
              " 3        604000.0\n",
              " 4        510000.0\n",
              "            ...   \n",
              " 21608    360000.0\n",
              " 21609    400000.0\n",
              " 21610    402101.0\n",
              " 21611    400000.0\n",
              " 21612    325000.0\n",
              " Name: price, Length: 21613, dtype: float64, 'frame':           price  bedrooms  bathrooms  sqft_living  sqft_lot  floors  \\\n",
              " 0      221900.0       3.0       1.00       1180.0    5650.0     1.0   \n",
              " 1      538000.0       3.0       2.25       2570.0    7242.0     2.0   \n",
              " 2      180000.0       2.0       1.00        770.0   10000.0     1.0   \n",
              " 3      604000.0       4.0       3.00       1960.0    5000.0     1.0   \n",
              " 4      510000.0       3.0       2.00       1680.0    8080.0     1.0   \n",
              " ...         ...       ...        ...          ...       ...     ...   \n",
              " 21608  360000.0       3.0       2.50       1530.0    1131.0     3.0   \n",
              " 21609  400000.0       4.0       2.50       2310.0    5813.0     2.0   \n",
              " 21610  402101.0       2.0       0.75       1020.0    1350.0     2.0   \n",
              " 21611  400000.0       3.0       2.50       1600.0    2388.0     2.0   \n",
              " 21612  325000.0       2.0       0.75       1020.0    1076.0     2.0   \n",
              " \n",
              "        waterfront  view  condition  grade  ...  yr_built  yr_renovated  \\\n",
              " 0             0.0   0.0        3.0    7.0  ...    1955.0           0.0   \n",
              " 1             0.0   0.0        3.0    7.0  ...    1951.0        1991.0   \n",
              " 2             0.0   0.0        3.0    6.0  ...    1933.0           0.0   \n",
              " 3             0.0   0.0        5.0    7.0  ...    1965.0           0.0   \n",
              " 4             0.0   0.0        3.0    8.0  ...    1987.0           0.0   \n",
              " ...           ...   ...        ...    ...  ...       ...           ...   \n",
              " 21608         0.0   0.0        3.0    8.0  ...    2009.0           0.0   \n",
              " 21609         0.0   0.0        3.0    8.0  ...    2014.0           0.0   \n",
              " 21610         0.0   0.0        3.0    7.0  ...    2009.0           0.0   \n",
              " 21611         0.0   0.0        3.0    8.0  ...    2004.0           0.0   \n",
              " 21612         0.0   0.0        3.0    7.0  ...    2008.0           0.0   \n",
              " \n",
              "        zipcode      lat     long  sqft_living15  sqft_lot15  date_year  \\\n",
              " 0        98178  47.5112 -122.257         1340.0      5650.0     2014.0   \n",
              " 1        98125  47.7210 -122.319         1690.0      7639.0     2014.0   \n",
              " 2        98028  47.7379 -122.233         2720.0      8062.0     2015.0   \n",
              " 3        98136  47.5208 -122.393         1360.0      5000.0     2014.0   \n",
              " 4        98074  47.6168 -122.045         1800.0      7503.0     2015.0   \n",
              " ...        ...      ...      ...            ...         ...        ...   \n",
              " 21608    98103  47.6993 -122.346         1530.0      1509.0     2014.0   \n",
              " 21609    98146  47.5107 -122.362         1830.0      7200.0     2015.0   \n",
              " 21610    98144  47.5944 -122.299         1020.0      2007.0     2014.0   \n",
              " 21611    98027  47.5345 -122.069         1410.0      1287.0     2015.0   \n",
              " 21612    98144  47.5941 -122.299         1020.0      1357.0     2014.0   \n",
              " \n",
              "        date_month  date_day  \n",
              " 0            10.0      13.0  \n",
              " 1            12.0       9.0  \n",
              " 2             2.0      25.0  \n",
              " 3            12.0       9.0  \n",
              " 4             2.0      18.0  \n",
              " ...           ...       ...  \n",
              " 21608         5.0      21.0  \n",
              " 21609         2.0      23.0  \n",
              " 21610         6.0      23.0  \n",
              " 21611         1.0      16.0  \n",
              " 21612        10.0      15.0  \n",
              " \n",
              " [21613 rows x 22 columns], 'categories': None, 'feature_names': ['bedrooms',\n",
              "  'bathrooms',\n",
              "  'sqft_living',\n",
              "  'sqft_lot',\n",
              "  'floors',\n",
              "  'waterfront',\n",
              "  'view',\n",
              "  'condition',\n",
              "  'grade',\n",
              "  'sqft_above',\n",
              "  'sqft_basement',\n",
              "  'yr_built',\n",
              "  'yr_renovated',\n",
              "  'zipcode',\n",
              "  'lat',\n",
              "  'long',\n",
              "  'sqft_living15',\n",
              "  'sqft_lot15',\n",
              "  'date_year',\n",
              "  'date_month',\n",
              "  'date_day'], 'target_names': ['price'], 'DESCR': \"Date converted to year/mo/day numerics.This dataset contains house sale prices for King County, which includes Seattle. It includes homes sold between May 2014 and May 2015.\\n\\nIt contains 19 house features plus the price and the id columns, along with 21613 observations.\\nIt's a great dataset for evaluating simple regression models.\\n\\nDownloaded from openml.org.\", 'details': {'id': '42731',\n",
              "  'name': 'house_sales',\n",
              "  'version': '3',\n",
              "  'description_version': '1',\n",
              "  'format': 'arff',\n",
              "  'creator': 'https://www.kaggle.com/harlfoxem/',\n",
              "  'contributor': 'https://www.kaggle.com/harlfoxem/',\n",
              "  'collection_date': '2016-08-25',\n",
              "  'upload_date': '2020-11-18T08:51:57',\n",
              "  'language': 'English',\n",
              "  'licence': 'CC0 Public Domain',\n",
              "  'url': 'https://api.openml.org/data/v1/download/22044765/house_sales.arff',\n",
              "  'parquet_url': 'http://openml1.win.tue.nl/dataset42731/dataset_42731.pq',\n",
              "  'file_id': '22044765',\n",
              "  'default_target_attribute': 'price',\n",
              "  'row_id_attribute': 'id',\n",
              "  'visibility': 'public',\n",
              "  'original_data_url': 'https://www.kaggle.com/harlfoxem/housesalesprediction',\n",
              "  'minio_url': 'http://openml1.win.tue.nl/dataset42731/dataset_42731.pq',\n",
              "  'status': 'active',\n",
              "  'processing_date': '2020-11-18 08:52:04',\n",
              "  'md5_checksum': 'ea7b46e10234119ae2ac9a262c320420'}, 'url': 'https://www.openml.org/d/42731'}"
            ]
          },
          "metadata": {},
          "execution_count": 3
        }
      ],
      "source": [
        "dados"
      ]
    },
    {
      "cell_type": "code",
      "execution_count": 4,
      "id": "5d3c0970",
      "metadata": {
        "id": "5d3c0970"
      },
      "outputs": [],
      "source": [
        "df_casas = pd.DataFrame(data = dados.data, columns=dados.feature_names) # Transformando em dataframe"
      ]
    },
    {
      "cell_type": "code",
      "execution_count": 5,
      "id": "6c946ad2",
      "metadata": {
        "id": "6c946ad2"
      },
      "outputs": [],
      "source": [
        "df_casas['price'] = dados.target # Colocando a coluna de preços"
      ]
    },
    {
      "cell_type": "code",
      "execution_count": 6,
      "id": "99db2f93",
      "metadata": {
        "id": "99db2f93",
        "outputId": "e63c215d-5bc9-44e2-9d5e-f565274f9105",
        "colab": {
          "base_uri": "https://localhost:8080/",
          "height": 299
        }
      },
      "outputs": [
        {
          "output_type": "execute_result",
          "data": {
            "text/plain": [
              "   bedrooms  bathrooms  sqft_living  sqft_lot  floors  waterfront  view  \\\n",
              "0       3.0       1.00       1180.0    5650.0     1.0         0.0   0.0   \n",
              "1       3.0       2.25       2570.0    7242.0     2.0         0.0   0.0   \n",
              "2       2.0       1.00        770.0   10000.0     1.0         0.0   0.0   \n",
              "3       4.0       3.00       1960.0    5000.0     1.0         0.0   0.0   \n",
              "4       3.0       2.00       1680.0    8080.0     1.0         0.0   0.0   \n",
              "\n",
              "   condition  grade  sqft_above  ...  yr_renovated  zipcode      lat     long  \\\n",
              "0        3.0    7.0      1180.0  ...           0.0    98178  47.5112 -122.257   \n",
              "1        3.0    7.0      2170.0  ...        1991.0    98125  47.7210 -122.319   \n",
              "2        3.0    6.0       770.0  ...           0.0    98028  47.7379 -122.233   \n",
              "3        5.0    7.0      1050.0  ...           0.0    98136  47.5208 -122.393   \n",
              "4        3.0    8.0      1680.0  ...           0.0    98074  47.6168 -122.045   \n",
              "\n",
              "   sqft_living15  sqft_lot15  date_year  date_month  date_day     price  \n",
              "0         1340.0      5650.0     2014.0        10.0      13.0  221900.0  \n",
              "1         1690.0      7639.0     2014.0        12.0       9.0  538000.0  \n",
              "2         2720.0      8062.0     2015.0         2.0      25.0  180000.0  \n",
              "3         1360.0      5000.0     2014.0        12.0       9.0  604000.0  \n",
              "4         1800.0      7503.0     2015.0         2.0      18.0  510000.0  \n",
              "\n",
              "[5 rows x 22 columns]"
            ],
            "text/html": [
              "\n",
              "  <div id=\"df-31dd8681-3d83-42e7-ac45-bccac717d9b7\">\n",
              "    <div class=\"colab-df-container\">\n",
              "      <div>\n",
              "<style scoped>\n",
              "    .dataframe tbody tr th:only-of-type {\n",
              "        vertical-align: middle;\n",
              "    }\n",
              "\n",
              "    .dataframe tbody tr th {\n",
              "        vertical-align: top;\n",
              "    }\n",
              "\n",
              "    .dataframe thead th {\n",
              "        text-align: right;\n",
              "    }\n",
              "</style>\n",
              "<table border=\"1\" class=\"dataframe\">\n",
              "  <thead>\n",
              "    <tr style=\"text-align: right;\">\n",
              "      <th></th>\n",
              "      <th>bedrooms</th>\n",
              "      <th>bathrooms</th>\n",
              "      <th>sqft_living</th>\n",
              "      <th>sqft_lot</th>\n",
              "      <th>floors</th>\n",
              "      <th>waterfront</th>\n",
              "      <th>view</th>\n",
              "      <th>condition</th>\n",
              "      <th>grade</th>\n",
              "      <th>sqft_above</th>\n",
              "      <th>...</th>\n",
              "      <th>yr_renovated</th>\n",
              "      <th>zipcode</th>\n",
              "      <th>lat</th>\n",
              "      <th>long</th>\n",
              "      <th>sqft_living15</th>\n",
              "      <th>sqft_lot15</th>\n",
              "      <th>date_year</th>\n",
              "      <th>date_month</th>\n",
              "      <th>date_day</th>\n",
              "      <th>price</th>\n",
              "    </tr>\n",
              "  </thead>\n",
              "  <tbody>\n",
              "    <tr>\n",
              "      <th>0</th>\n",
              "      <td>3.0</td>\n",
              "      <td>1.00</td>\n",
              "      <td>1180.0</td>\n",
              "      <td>5650.0</td>\n",
              "      <td>1.0</td>\n",
              "      <td>0.0</td>\n",
              "      <td>0.0</td>\n",
              "      <td>3.0</td>\n",
              "      <td>7.0</td>\n",
              "      <td>1180.0</td>\n",
              "      <td>...</td>\n",
              "      <td>0.0</td>\n",
              "      <td>98178</td>\n",
              "      <td>47.5112</td>\n",
              "      <td>-122.257</td>\n",
              "      <td>1340.0</td>\n",
              "      <td>5650.0</td>\n",
              "      <td>2014.0</td>\n",
              "      <td>10.0</td>\n",
              "      <td>13.0</td>\n",
              "      <td>221900.0</td>\n",
              "    </tr>\n",
              "    <tr>\n",
              "      <th>1</th>\n",
              "      <td>3.0</td>\n",
              "      <td>2.25</td>\n",
              "      <td>2570.0</td>\n",
              "      <td>7242.0</td>\n",
              "      <td>2.0</td>\n",
              "      <td>0.0</td>\n",
              "      <td>0.0</td>\n",
              "      <td>3.0</td>\n",
              "      <td>7.0</td>\n",
              "      <td>2170.0</td>\n",
              "      <td>...</td>\n",
              "      <td>1991.0</td>\n",
              "      <td>98125</td>\n",
              "      <td>47.7210</td>\n",
              "      <td>-122.319</td>\n",
              "      <td>1690.0</td>\n",
              "      <td>7639.0</td>\n",
              "      <td>2014.0</td>\n",
              "      <td>12.0</td>\n",
              "      <td>9.0</td>\n",
              "      <td>538000.0</td>\n",
              "    </tr>\n",
              "    <tr>\n",
              "      <th>2</th>\n",
              "      <td>2.0</td>\n",
              "      <td>1.00</td>\n",
              "      <td>770.0</td>\n",
              "      <td>10000.0</td>\n",
              "      <td>1.0</td>\n",
              "      <td>0.0</td>\n",
              "      <td>0.0</td>\n",
              "      <td>3.0</td>\n",
              "      <td>6.0</td>\n",
              "      <td>770.0</td>\n",
              "      <td>...</td>\n",
              "      <td>0.0</td>\n",
              "      <td>98028</td>\n",
              "      <td>47.7379</td>\n",
              "      <td>-122.233</td>\n",
              "      <td>2720.0</td>\n",
              "      <td>8062.0</td>\n",
              "      <td>2015.0</td>\n",
              "      <td>2.0</td>\n",
              "      <td>25.0</td>\n",
              "      <td>180000.0</td>\n",
              "    </tr>\n",
              "    <tr>\n",
              "      <th>3</th>\n",
              "      <td>4.0</td>\n",
              "      <td>3.00</td>\n",
              "      <td>1960.0</td>\n",
              "      <td>5000.0</td>\n",
              "      <td>1.0</td>\n",
              "      <td>0.0</td>\n",
              "      <td>0.0</td>\n",
              "      <td>5.0</td>\n",
              "      <td>7.0</td>\n",
              "      <td>1050.0</td>\n",
              "      <td>...</td>\n",
              "      <td>0.0</td>\n",
              "      <td>98136</td>\n",
              "      <td>47.5208</td>\n",
              "      <td>-122.393</td>\n",
              "      <td>1360.0</td>\n",
              "      <td>5000.0</td>\n",
              "      <td>2014.0</td>\n",
              "      <td>12.0</td>\n",
              "      <td>9.0</td>\n",
              "      <td>604000.0</td>\n",
              "    </tr>\n",
              "    <tr>\n",
              "      <th>4</th>\n",
              "      <td>3.0</td>\n",
              "      <td>2.00</td>\n",
              "      <td>1680.0</td>\n",
              "      <td>8080.0</td>\n",
              "      <td>1.0</td>\n",
              "      <td>0.0</td>\n",
              "      <td>0.0</td>\n",
              "      <td>3.0</td>\n",
              "      <td>8.0</td>\n",
              "      <td>1680.0</td>\n",
              "      <td>...</td>\n",
              "      <td>0.0</td>\n",
              "      <td>98074</td>\n",
              "      <td>47.6168</td>\n",
              "      <td>-122.045</td>\n",
              "      <td>1800.0</td>\n",
              "      <td>7503.0</td>\n",
              "      <td>2015.0</td>\n",
              "      <td>2.0</td>\n",
              "      <td>18.0</td>\n",
              "      <td>510000.0</td>\n",
              "    </tr>\n",
              "  </tbody>\n",
              "</table>\n",
              "<p>5 rows × 22 columns</p>\n",
              "</div>\n",
              "      <button class=\"colab-df-convert\" onclick=\"convertToInteractive('df-31dd8681-3d83-42e7-ac45-bccac717d9b7')\"\n",
              "              title=\"Convert this dataframe to an interactive table.\"\n",
              "              style=\"display:none;\">\n",
              "        \n",
              "  <svg xmlns=\"http://www.w3.org/2000/svg\" height=\"24px\"viewBox=\"0 0 24 24\"\n",
              "       width=\"24px\">\n",
              "    <path d=\"M0 0h24v24H0V0z\" fill=\"none\"/>\n",
              "    <path d=\"M18.56 5.44l.94 2.06.94-2.06 2.06-.94-2.06-.94-.94-2.06-.94 2.06-2.06.94zm-11 1L8.5 8.5l.94-2.06 2.06-.94-2.06-.94L8.5 2.5l-.94 2.06-2.06.94zm10 10l.94 2.06.94-2.06 2.06-.94-2.06-.94-.94-2.06-.94 2.06-2.06.94z\"/><path d=\"M17.41 7.96l-1.37-1.37c-.4-.4-.92-.59-1.43-.59-.52 0-1.04.2-1.43.59L10.3 9.45l-7.72 7.72c-.78.78-.78 2.05 0 2.83L4 21.41c.39.39.9.59 1.41.59.51 0 1.02-.2 1.41-.59l7.78-7.78 2.81-2.81c.8-.78.8-2.07 0-2.86zM5.41 20L4 18.59l7.72-7.72 1.47 1.35L5.41 20z\"/>\n",
              "  </svg>\n",
              "      </button>\n",
              "      \n",
              "  <style>\n",
              "    .colab-df-container {\n",
              "      display:flex;\n",
              "      flex-wrap:wrap;\n",
              "      gap: 12px;\n",
              "    }\n",
              "\n",
              "    .colab-df-convert {\n",
              "      background-color: #E8F0FE;\n",
              "      border: none;\n",
              "      border-radius: 50%;\n",
              "      cursor: pointer;\n",
              "      display: none;\n",
              "      fill: #1967D2;\n",
              "      height: 32px;\n",
              "      padding: 0 0 0 0;\n",
              "      width: 32px;\n",
              "    }\n",
              "\n",
              "    .colab-df-convert:hover {\n",
              "      background-color: #E2EBFA;\n",
              "      box-shadow: 0px 1px 2px rgba(60, 64, 67, 0.3), 0px 1px 3px 1px rgba(60, 64, 67, 0.15);\n",
              "      fill: #174EA6;\n",
              "    }\n",
              "\n",
              "    [theme=dark] .colab-df-convert {\n",
              "      background-color: #3B4455;\n",
              "      fill: #D2E3FC;\n",
              "    }\n",
              "\n",
              "    [theme=dark] .colab-df-convert:hover {\n",
              "      background-color: #434B5C;\n",
              "      box-shadow: 0px 1px 3px 1px rgba(0, 0, 0, 0.15);\n",
              "      filter: drop-shadow(0px 1px 2px rgba(0, 0, 0, 0.3));\n",
              "      fill: #FFFFFF;\n",
              "    }\n",
              "  </style>\n",
              "\n",
              "      <script>\n",
              "        const buttonEl =\n",
              "          document.querySelector('#df-31dd8681-3d83-42e7-ac45-bccac717d9b7 button.colab-df-convert');\n",
              "        buttonEl.style.display =\n",
              "          google.colab.kernel.accessAllowed ? 'block' : 'none';\n",
              "\n",
              "        async function convertToInteractive(key) {\n",
              "          const element = document.querySelector('#df-31dd8681-3d83-42e7-ac45-bccac717d9b7');\n",
              "          const dataTable =\n",
              "            await google.colab.kernel.invokeFunction('convertToInteractive',\n",
              "                                                     [key], {});\n",
              "          if (!dataTable) return;\n",
              "\n",
              "          const docLinkHtml = 'Like what you see? Visit the ' +\n",
              "            '<a target=\"_blank\" href=https://colab.research.google.com/notebooks/data_table.ipynb>data table notebook</a>'\n",
              "            + ' to learn more about interactive tables.';\n",
              "          element.innerHTML = '';\n",
              "          dataTable['output_type'] = 'display_data';\n",
              "          await google.colab.output.renderOutput(dataTable, element);\n",
              "          const docLink = document.createElement('div');\n",
              "          docLink.innerHTML = docLinkHtml;\n",
              "          element.appendChild(docLink);\n",
              "        }\n",
              "      </script>\n",
              "    </div>\n",
              "  </div>\n",
              "  "
            ]
          },
          "metadata": {},
          "execution_count": 6
        }
      ],
      "source": [
        "df_casas.head()"
      ]
    },
    {
      "cell_type": "code",
      "execution_count": 7,
      "id": "c8687862",
      "metadata": {
        "id": "c8687862",
        "colab": {
          "base_uri": "https://localhost:8080/"
        },
        "outputId": "afe3fbdf-93e1-4382-a61d-4d5dae033ffb"
      },
      "outputs": [
        {
          "output_type": "stream",
          "name": "stdout",
          "text": [
            "<class 'pandas.core.frame.DataFrame'>\n",
            "RangeIndex: 21613 entries, 0 to 21612\n",
            "Data columns (total 22 columns):\n",
            " #   Column         Non-Null Count  Dtype   \n",
            "---  ------         --------------  -----   \n",
            " 0   bedrooms       21613 non-null  float64 \n",
            " 1   bathrooms      21613 non-null  float64 \n",
            " 2   sqft_living    21613 non-null  float64 \n",
            " 3   sqft_lot       21613 non-null  float64 \n",
            " 4   floors         21613 non-null  float64 \n",
            " 5   waterfront     21613 non-null  float64 \n",
            " 6   view           21613 non-null  float64 \n",
            " 7   condition      21613 non-null  float64 \n",
            " 8   grade          21613 non-null  float64 \n",
            " 9   sqft_above     21613 non-null  float64 \n",
            " 10  sqft_basement  21613 non-null  float64 \n",
            " 11  yr_built       21613 non-null  float64 \n",
            " 12  yr_renovated   21613 non-null  float64 \n",
            " 13  zipcode        21613 non-null  category\n",
            " 14  lat            21613 non-null  float64 \n",
            " 15  long           21613 non-null  float64 \n",
            " 16  sqft_living15  21613 non-null  float64 \n",
            " 17  sqft_lot15     21613 non-null  float64 \n",
            " 18  date_year      21613 non-null  float64 \n",
            " 19  date_month     21613 non-null  float64 \n",
            " 20  date_day       21613 non-null  float64 \n",
            " 21  price          21613 non-null  float64 \n",
            "dtypes: category(1), float64(21)\n",
            "memory usage: 3.5 MB\n"
          ]
        }
      ],
      "source": [
        "df_casas.info() # Observe que não temos nenhum dado faltando para as colunas de informação"
      ]
    },
    {
      "cell_type": "code",
      "execution_count": 8,
      "id": "c32cc6c8",
      "metadata": {
        "id": "c32cc6c8",
        "colab": {
          "base_uri": "https://localhost:8080/",
          "height": 350
        },
        "outputId": "1d928b1e-dee9-4638-da4e-f1b9df2d4e80"
      },
      "outputs": [
        {
          "output_type": "execute_result",
          "data": {
            "text/plain": [
              "<matplotlib.axes._subplots.AxesSubplot at 0x7f57edc94c10>"
            ]
          },
          "metadata": {},
          "execution_count": 8
        },
        {
          "output_type": "display_data",
          "data": {
            "text/plain": [
              "<Figure size 432x288 with 2 Axes>"
            ],
            "image/png": "[encoded data removed]"
          },
          "metadata": {
            "needs_background": "light"
          }
        }
      ],
      "source": [
        "sns.heatmap(df_casas.corr())"
      ]
    },
    {
      "cell_type": "markdown",
      "id": "9e611aeb",
      "metadata": {
        "id": "9e611aeb"
      },
      "source": [
        "#Segundo passo: \n",
        "##separar os dados\n",
        "\n",
        "Precisamos ter claro em nossas mentes quais são os atributos (colunas) preditivas, isto é, aquelas que usaremos para predizer um atributo alvo (coluna alvo).\n",
        "\n",
        "Quando se trabalhar com Aprendizado de Máquina Supervisionado, além disso precisamos separar nossos dados em dois conjuntos: um **conjunto de treinamento** e um **conjunto de teste**. Fazemos isso para evitar overfitting do algoritmo.\n",
        "\n",
        "Existem várias estratégias para se separar dados. Vamos aplicar as principais:\n",
        "\n",
        "(a) Escolher o tamanho dos conjuntos - 80% para treinamento e 20% para teste;\n",
        "\n",
        "(b) Selecionar aleatoriamente os dados que irão compor o conjunto de treinamento e teste (usando um seed para garantir reprodutibilidade);"
      ]
    },
    {
      "cell_type": "code",
      "execution_count": 9,
      "id": "c88cd724",
      "metadata": {
        "id": "c88cd724"
      },
      "outputs": [],
      "source": [
        "from sklearn.model_selection import train_test_split"
      ]
    },
    {
      "cell_type": "code",
      "execution_count": 10,
      "id": "6d3c6319",
      "metadata": {
        "id": "6d3c6319",
        "colab": {
          "base_uri": "https://localhost:8080/"
        },
        "outputId": "e9a17a7d-60a8-476d-8da8-7bfcc4d20482"
      },
      "outputs": [
        {
          "output_type": "execute_result",
          "data": {
            "text/plain": [
              "21613"
            ]
          },
          "metadata": {},
          "execution_count": 10
        }
      ],
      "source": [
        "len(df_casas)"
      ]
    },
    {
      "cell_type": "code",
      "execution_count": 11,
      "id": "c3322005",
      "metadata": {
        "id": "c3322005"
      },
      "outputs": [],
      "source": [
        "# Escolhendo as colunas preditivas e alvo\n",
        "x = df_casas.drop(columns=['zipcode', 'price', 'date_year', 'date_month', 'date_day'])\n",
        "y = df_casas['price']                \n",
        "\n",
        "# Dividindo conjunto de treinamento e conjunto de teste\n",
        "x_train, x_test, y_train, y_test = train_test_split(x, y, test_size = 0.2, random_state = 42)"
      ]
    },
    {
      "cell_type": "code",
      "execution_count": 12,
      "id": "33796151",
      "metadata": {
        "id": "33796151",
        "colab": {
          "base_uri": "https://localhost:8080/"
        },
        "outputId": "642e54eb-971a-4705-baac-46834e83d742"
      },
      "outputs": [
        {
          "output_type": "execute_result",
          "data": {
            "text/plain": [
              "(17290, 4323, 17290, 4323)"
            ]
          },
          "metadata": {},
          "execution_count": 12
        }
      ],
      "source": [
        "len(x_train), len(x_test), len(y_train), len(y_test)"
      ]
    },
    {
      "cell_type": "markdown",
      "id": "a79c831e",
      "metadata": {
        "id": "a79c831e"
      },
      "source": [
        "# Terceiro passo: \n",
        "##escalonar os dados"
      ]
    },
    {
      "cell_type": "code",
      "execution_count": 13,
      "id": "61121aec",
      "metadata": {
        "id": "61121aec"
      },
      "outputs": [],
      "source": [
        "# vamos pular essa etapa"
      ]
    },
    {
      "cell_type": "markdown",
      "id": "75bcf368",
      "metadata": {
        "id": "75bcf368"
      },
      "source": [
        "# Quarto passo: \n",
        "#treinar o algoritmo \n",
        "\n",
        "Vamos usar o conjunto de treinamento para treinar o algoritmo escolhido.\n",
        "\n",
        "Existem vários algoritmos possíveis. Cada algoritmo tem seus **hiperparâmetros** (parâmetros que devem ser escolhidos para melhorar a performance do algoritmo). Para entender os hiperparâmetros de cada algoritmo é necessário entender a fundo como aquele algoritmo funciona.\n",
        "\n",
        "Aqui vamos usar um dos algoritmos mais simples existentes, a Regressão Linear:"
      ]
    },
    {
      "cell_type": "code",
      "execution_count": 14,
      "id": "02551906",
      "metadata": {
        "id": "02551906"
      },
      "outputs": [],
      "source": [
        "from sklearn.linear_model import LinearRegression"
      ]
    },
    {
      "cell_type": "code",
      "execution_count": 15,
      "id": "85865492",
      "metadata": {
        "id": "85865492",
        "colab": {
          "base_uri": "https://localhost:8080/"
        },
        "outputId": "820dd036-d048-4bf7-b55d-1e7770c9fc18"
      },
      "outputs": [
        {
          "output_type": "execute_result",
          "data": {
            "text/plain": [
              "LinearRegression()"
            ]
          },
          "metadata": {},
          "execution_count": 15
        }
      ],
      "source": [
        "lr = LinearRegression()  # Criamos o objeto do regressor (não mudamos nenhum hiperpârametro)\n",
        "\n",
        "lr.fit(x_train,y_train) # Treinamos o regressor passando apenas o conjunto de dados de treinamento "
      ]
    },
    {
      "cell_type": "markdown",
      "id": "f5ccd0f3",
      "metadata": {
        "id": "f5ccd0f3"
      },
      "source": [
        "#Quinto passo: \n",
        "##testar e avaliar \n",
        "\n",
        "Usando agora o conjunto de teste, iremos testar o classificador criado e treinando no passo anterior.\n",
        "\n",
        "Uma vez que realizamos um teste, precisamos avaliar o desempenho do nosso método. Diferentes hiperparâmetros e diferentes algoritmos podem ter um desempenho diferente. Apesar de sempre buscarmos o melhor desempenho, devemos levar em consideração outros aspectos para decidir o que é um desempenho aceitável. A primeira coisa a definir são as métricas de desempenho que podem ser comparadas entre diferentes algoritmos. \n",
        "\n",
        "Existem várias métricas para se medir o desempenho de um regressor: métricas de performance, métricas de tempo consumido, métricas de memória consumida, etc. Vamos calcular algumas delas:\n",
        "- MAE\n",
        "- MSE\n",
        "- Correlação de Pearson\n",
        "- $R^2$"
      ]
    },
    {
      "cell_type": "code",
      "execution_count": 16,
      "id": "f0b92681",
      "metadata": {
        "id": "f0b92681"
      },
      "outputs": [],
      "source": [
        "from sklearn.metrics import mean_squared_error, mean_absolute_error, r2_score\n",
        "from scipy.stats import pearsonr"
      ]
    },
    {
      "cell_type": "code",
      "execution_count": 17,
      "id": "c57468d9",
      "metadata": {
        "id": "c57468d9"
      },
      "outputs": [],
      "source": [
        "# Perceba que estamos passando apenas o x de teste, afinal o algoritmo é que nos dira qual é o y \n",
        "y_predicoes = lr.predict(x_test) "
      ]
    },
    {
      "cell_type": "code",
      "execution_count": 18,
      "id": "95bd0531",
      "metadata": {
        "id": "95bd0531",
        "colab": {
          "base_uri": "https://localhost:8080/"
        },
        "outputId": "7515c545-8484-49fe-9f68-c04b4b16e0a1"
      },
      "outputs": [
        {
          "output_type": "stream",
          "name": "stdout",
          "text": [
            "MAE:  128157.32046186982\n"
          ]
        }
      ],
      "source": [
        "MAE = mean_absolute_error(y_true = y_test,      # Gabarito\n",
        "                          y_pred = y_predicoes) # Respostas do algoritmo ao teste realizado\n",
        "print('MAE: ', MAE)"
      ]
    },
    {
      "cell_type": "code",
      "execution_count": 19,
      "id": "3c1ce357",
      "metadata": {
        "id": "3c1ce357",
        "colab": {
          "base_uri": "https://localhost:8080/"
        },
        "outputId": "765a87cd-d5e3-4f64-d11f-f839a56b1517"
      },
      "outputs": [
        {
          "output_type": "stream",
          "name": "stdout",
          "text": [
            "MSE:  45998562877.06499\n",
            "raiz MSE:  214472.755558987\n"
          ]
        }
      ],
      "source": [
        "MSE = mean_squared_error(y_true = y_test,      # Gabarito\n",
        "                         y_pred = y_predicoes) # Respostas do algoritmo ao teste realizado\n",
        "print('MSE: ', MSE)\n",
        "print('raiz MSE: ', MSE**0.5)"
      ]
    },
    {
      "cell_type": "markdown",
      "id": "4cf808df",
      "metadata": {
        "id": "4cf808df"
      },
      "source": [
        "A **MAE** e a **MSE** são formas bem simples de avaliar o erro. O problema é como saber se um determinado valor de MAE ou MSE é muito grande? Intuitivamente sabemos que quanto maior esse valor, pior. Entretanto, o valor calculado se refere a escala dos dados, e por isso, pode ser de dificil avaliação. Em geral, devemos comparar duas MAEs ou duas MSEs para dois modelos de regressão diferentes, usando os mesmos dados. Aqueles que tiverem uma MAE ou MSE menores, serão, portanto, melhores.\n",
        "\n",
        "Neste exemplo, uma MAE de 128157 significa que em média, estamos errando o reço de caça em $128 mil para mais ou para menos.\n",
        "\n",
        "\n",
        "A escala **R²**, por outro lado, não tem esse problema de comparação. Esse valor já está em uma escala, de forma que sabemos que quanto mais próximo de 1, melhor! Mas atenção, dificilmente um modelo terá R²=1. Então se você obter isso, provavelmente seu modelo está sofrendo de overfitting (ele é muito bom para seus dados, mas não será tão bom para novas entradas). Sempre que você obtiver um valor de R²=1, verifique se não cometeu nenhum erro nos passos anteriores."
      ]
    },
    {
      "cell_type": "code",
      "execution_count": 20,
      "id": "0c6293d8",
      "metadata": {
        "id": "0c6293d8",
        "colab": {
          "base_uri": "https://localhost:8080/"
        },
        "outputId": "f6e86d75-166c-42cc-8d05-c29b3af4b7f2"
      },
      "outputs": [
        {
          "output_type": "stream",
          "name": "stdout",
          "text": [
            "R2:  0.6957298370207232\n"
          ]
        }
      ],
      "source": [
        "R2 = r2_score(y_true = y_test,      # Gabarito\n",
        "              y_pred = y_predicoes) # Respostas do algoritmo ao teste realizado\n",
        "print('R2: ', R2)  # Quanto mais próximos de 1 melhor"
      ]
    },
    {
      "cell_type": "markdown",
      "id": "98bf32c8",
      "metadata": {
        "id": "98bf32c8"
      },
      "source": [
        "O **coeficiente de correlação de Pearson $\\rho$** também é mais fácil de interepretar o resultado já que eles está em uma escala de -1 a 1. Quando estamos avaliando o desempenho do modelo, queremos $\\rho=1$. "
      ]
    },
    {
      "cell_type": "code",
      "execution_count": 21,
      "id": "31ba5148",
      "metadata": {
        "id": "31ba5148",
        "colab": {
          "base_uri": "https://localhost:8080/"
        },
        "outputId": "064d2309-37a7-488c-8adc-2ee4d81e71aa"
      },
      "outputs": [
        {
          "output_type": "stream",
          "name": "stdout",
          "text": [
            "ρ: 0.8343415181688421\n"
          ]
        }
      ],
      "source": [
        "rho = pearsonr(y_test, y_predicoes)\n",
        "print('\\u03C1:', rho[0]) # Quanto mais próximo de 1, melhor (OBS: apneas neste caso de utilização)"
      ]
    },
    {
      "cell_type": "markdown",
      "id": "9d290d10",
      "metadata": {
        "id": "9d290d10"
      },
      "source": [
        "### Exemplo 1 - O modelo obtido\n",
        "\n",
        "Nos modelos de Regressão Linear, temos uma função linear de múltiplos coeficientes. Essa função é exatamente o modelo encontrado pelo algoritmo. Para obter os coeficientes, basta fazer:"
      ]
    },
    {
      "cell_type": "code",
      "execution_count": 22,
      "id": "56a7589f",
      "metadata": {
        "id": "56a7589f"
      },
      "outputs": [],
      "source": [
        "a_modelo = lr.coef_      # Coeficientes angulares do modelo (cada um mede a influência de cada coluna)\n",
        "b_modelo = lr.intercept_ # Coeficiente linear do model"
      ]
    },
    {
      "cell_type": "code",
      "execution_count": 23,
      "id": "3382896b",
      "metadata": {
        "id": "3382896b",
        "colab": {
          "base_uri": "https://localhost:8080/"
        },
        "outputId": "1a88785c-af71-40be-b376-d9abb2fa3876"
      },
      "outputs": [
        {
          "output_type": "stream",
          "name": "stdout",
          "text": [
            "[-3.28089883e+04  4.55327150e+04  1.07507563e+02  8.46757999e-02\n",
            "  1.47880164e+03  5.68137383e+05  5.04991846e+04  2.87862784e+04\n",
            "  9.57023626e+04  7.00561447e+01  3.74514182e+01 -2.53197387e+03\n",
            "  2.20667659e+01  5.56748027e+05 -1.01603032e+05  2.66806211e+01\n",
            " -3.30561089e-01] -34612911.364737146\n"
          ]
        }
      ],
      "source": [
        "print(a_modelo, b_modelo)"
      ]
    },
    {
      "cell_type": "markdown",
      "id": "f022a460",
      "metadata": {
        "id": "f022a460"
      },
      "source": [
        "Durante a etapa de treinamento, métricas de desempenho também são calculadas com o objetivo de se minimizar o erro. Perceba que o R² de treinamento e de teste são diferentes, o que é esperado e desejado. Podemos obter o R² de treinamento, fazendo:"
      ]
    },
    {
      "cell_type": "code",
      "execution_count": 24,
      "id": "cab05ef4",
      "metadata": {
        "id": "cab05ef4",
        "colab": {
          "base_uri": "https://localhost:8080/"
        },
        "outputId": "a42f2182-59ea-4f82-e5c1-b4dbb357f4a0"
      },
      "outputs": [
        {
          "output_type": "stream",
          "name": "stdout",
          "text": [
            "0.6951038946870622\n"
          ]
        }
      ],
      "source": [
        "R2_treinamento = lr.score(x_train, y_train)\n",
        "print(R2_treinamento)"
      ]
    },
    {
      "cell_type": "markdown",
      "id": "29859bc5",
      "metadata": {
        "id": "29859bc5"
      },
      "source": [
        "Se o R² de treinamento der muito próximo e 1 e o R² de teste der muito abaixo (0.7, por exemplo), então o modelo está com overfitting."
      ]
    },
    {
      "cell_type": "code",
      "execution_count": 25,
      "id": "a1802396",
      "metadata": {
        "id": "a1802396"
      },
      "outputs": [],
      "source": [
        "y_pred_linear = y_predicoes # Salvando as informações do Modelo Reg Linear para comparar depois"
      ]
    },
    {
      "cell_type": "markdown",
      "id": "b83abc10",
      "metadata": {
        "id": "b83abc10"
      },
      "source": [
        "### Voltando no passo 4 e trocando o algoritmo para uma Rede Neural Perceptron Multicamada\n",
        "\n",
        "Redes Neurais Artificiais como o MLP (Multilayer Perceptron) podem ser altamente sensiveis a escala dos dados (assim como as SVM e o KNN).\n",
        "\n",
        "Vamos primeiro realizar o passo 3 de transformação dos dados: "
      ]
    },
    {
      "cell_type": "code",
      "execution_count": 26,
      "id": "502b7cac",
      "metadata": {
        "id": "502b7cac"
      },
      "outputs": [],
      "source": [
        "from sklearn.preprocessing import StandardScaler # Importando o Escalonador de Normalização"
      ]
    },
    {
      "cell_type": "code",
      "execution_count": 27,
      "id": "07c93bef",
      "metadata": {
        "id": "07c93bef"
      },
      "outputs": [],
      "source": [
        "# 3 - Escalonamento\n",
        "scaler = StandardScaler() # Criando o objeto de escalonamento\n",
        "scaler.fit(x_train) # Passando os dados de treinamento para encontrar a escala\n",
        "\n",
        "x_train_escalonado = scaler.transform(x_train)\n",
        "x_test_escalonado = scaler.transform(x_test)"
      ]
    },
    {
      "cell_type": "markdown",
      "id": "9378589e",
      "metadata": {
        "id": "9378589e"
      },
      "source": [
        "Agora vamos criar a rede neural e treinar ela:"
      ]
    },
    {
      "cell_type": "code",
      "execution_count": 28,
      "id": "5b057209",
      "metadata": {
        "id": "5b057209"
      },
      "outputs": [],
      "source": [
        "from sklearn.neural_network import MLPRegressor # Importando a Rede Neural MLP para Regressão"
      ]
    },
    {
      "cell_type": "code",
      "execution_count": 29,
      "id": "4bd74ef6",
      "metadata": {
        "id": "4bd74ef6",
        "colab": {
          "base_uri": "https://localhost:8080/"
        },
        "outputId": "ca7c509b-8879-478a-f17d-d6cdd31bf8f3"
      },
      "outputs": [
        {
          "output_type": "stream",
          "name": "stderr",
          "text": [
            "/usr/local/lib/python3.7/dist-packages/sklearn/neural_network/_multilayer_perceptron.py:549: ConvergenceWarning: lbfgs failed to converge (status=1):\n",
            "STOP: TOTAL NO. of ITERATIONS REACHED LIMIT.\n",
            "\n",
            "Increase the number of iterations (max_iter) or scale the data as shown in:\n",
            "    https://scikit-learn.org/stable/modules/preprocessing.html\n",
            "  self.n_iter_ = _check_optimize_result(\"lbfgs\", opt_res, self.max_iter)\n"
          ]
        },
        {
          "output_type": "execute_result",
          "data": {
            "text/plain": [
              "MLPRegressor(hidden_layer_sizes=(10, 4), max_iter=1500, random_state=42,\n",
              "             solver='lbfgs', tol=1e-05)"
            ]
          },
          "metadata": {},
          "execution_count": 29
        }
      ],
      "source": [
        "# 4 - Treino\n",
        "# Instanciando o objeto\n",
        "ml_perceptron = MLPRegressor(solver='lbfgs', # otimizador por métodos quasi-Newton\n",
        "                             tol=1e-5, # Limiar para a otimização (treinamento)\n",
        "                             max_iter=1500, # Limite de iterações durante a otimização (treinamento)\n",
        "                             random_state=42, # (seed) pesos da rede são inicializados aleatoriamente\n",
        "                             hidden_layer_sizes=(10,4), # Quantidade de neuronios por camada oculta #(12,7,3)\n",
        "                             activation='relu') # Função de ativação dos neuronios\n",
        "\n",
        "ml_perceptron.fit(x_train_escalonado, y_train)  # Treinando (perceba que estamos passando o x_train escalonado)"
      ]
    },
    {
      "cell_type": "code",
      "execution_count": 30,
      "id": "6394330e",
      "metadata": {
        "id": "6394330e",
        "colab": {
          "base_uri": "https://localhost:8080/"
        },
        "outputId": "66cb08f1-9e0b-4e07-c23e-a099f8400776"
      },
      "outputs": [
        {
          "output_type": "stream",
          "name": "stdout",
          "text": [
            "R2:  0.84244880487425\n",
            "ρ: 0.9197232497327121\n",
            "MAE:  81816.13871664353\n",
            "MSE:  23818071691.24938\n"
          ]
        }
      ],
      "source": [
        "# 5 - Teste\n",
        "y_predicoes = ml_perceptron.predict(x_test_escalonado) # Perceba que estamos passando o x_test escalonado\n",
        "\n",
        "R2 = r2_score(y_true = y_test,      # Gabarito\n",
        "              y_pred = y_predicoes) # Respostas do algoritmo ao teste realizado\n",
        "print('R2: ', R2)  # Quanto mais próximos de 1 melhor\n",
        "\n",
        "rho = pearsonr(y_test, y_predicoes)\n",
        "print('\\u03C1:', rho[0]) # Quanto mais próximo de 1, melhor (OBS: apneas neste caso de utilização)\n",
        "\n",
        "MAE = mean_absolute_error(y_true = y_test,      # Gabarito\n",
        "                          y_pred = y_predicoes) # Respostas do algoritmo ao teste realizado\n",
        "print('MAE: ', MAE)\n",
        "\n",
        "MSE = mean_squared_error(y_true = y_test,      # Gabarito\n",
        "                         y_pred = y_predicoes) # Respostas do algoritmo ao teste realizado\n",
        "print('MSE: ', MSE)"
      ]
    },
    {
      "cell_type": "code",
      "execution_count": 31,
      "id": "26722b67",
      "metadata": {
        "id": "26722b67"
      },
      "outputs": [],
      "source": [
        "y_predicoes_mlp = y_predicoes"
      ]
    },
    {
      "cell_type": "markdown",
      "id": "7c7b526f",
      "metadata": {
        "id": "7c7b526f"
      },
      "source": [
        "#### Gráfico de acerto\n",
        "\n",
        "Podemos visualizar nossos acertos através de um gráfico de dispersão entre y_test e y_pred. Perceba que se nosso modelo acerta tudo, y_test=y_pred. Dessa forma, teriamos uma reta perfeita com ângulo de inclinação de 45°. Entretanto, se nosso modelo não acertar tudo, então teremos uma outra reta, com outro ângulo de inclinação."
      ]
    },
    {
      "cell_type": "code",
      "execution_count": 32,
      "id": "c8d813f8",
      "metadata": {
        "id": "c8d813f8"
      },
      "outputs": [],
      "source": [
        "import seaborn as sns"
      ]
    },
    {
      "cell_type": "code",
      "execution_count": 33,
      "id": "6860373d",
      "metadata": {
        "id": "6860373d",
        "colab": {
          "base_uri": "https://localhost:8080/",
          "height": 308
        },
        "outputId": "b464b747-0acb-4e9d-dfd4-5a8f9dee3b3a"
      },
      "outputs": [
        {
          "output_type": "execute_result",
          "data": {
            "text/plain": [
              "<matplotlib.legend.Legend at 0x7f57ecbcca50>"
            ]
          },
          "metadata": {},
          "execution_count": 33
        },
        {
          "output_type": "display_data",
          "data": {
            "text/plain": [
              "<Figure size 432x288 with 1 Axes>"
            ],
            "image/png": "[encoded data removed]"
          },
          "metadata": {
            "needs_background": "light"
          }
        }
      ],
      "source": [
        "ax = sns.regplot(x=y_test,y=y_pred_linear,\n",
        "                 color=\"b\", scatter_kws={'alpha':0.3}, label='RegLinear') # Regressão Linear\n",
        "ax = sns.regplot(x=y_test,y=y_predicoes_mlp,\n",
        "                 color=\"g\", scatter_kws={'alpha':0.3}, label='MLP') # Rede Neural\n",
        "ax.plot(y_test, y_test, 'r--', linewidth = 2, label='Correto') # Reta 100% correto\n",
        "ax.set(xlabel='y_test (gabarito)', ylabel='y_pred (respostas do teste)') \n",
        "ax.legend()\n",
        "#ax.set_xscale('log'), ax.set_yscale('log')"
      ]
    },
    {
      "cell_type": "markdown",
      "id": "1fcf9457",
      "metadata": {
        "id": "1fcf9457"
      },
      "source": [
        "E se tivessemos escalonado os dados para passar pela Regressão Linear? Qual seria o resultado?"
      ]
    },
    {
      "cell_type": "markdown",
      "id": "e501f4fb",
      "metadata": {
        "id": "e501f4fb"
      },
      "source": [
        "------------------------------\n",
        "## Exemplo 2 - Fifa 2019 \n",
        "![image-5.png](attachment:image-5.png)\n",
        "\n",
        "Contém dados de diversos jogadores de futebol presentes no Jogo FiFa 2019 da EAGames. \n",
        "\n",
        "Os dados são públicos no Kaggle em https://www.kaggle.com/karangadiya/fifa19\n",
        "\n",
        "\n",
        "Queremos prever a performance total do jogador dada pela coluna Overall, usando a idade do jogador (coluna Age), o valor do jogador (coluna Value) e o seu salário (coluna Wage)."
      ]
    },
    {
      "cell_type": "markdown",
      "id": "d1f9286a",
      "metadata": {
        "id": "d1f9286a"
      },
      "source": [
        "### Exemplo 2 - Primeiro passo: carregar os dados e fazer a análise exploratória"
      ]
    },
    {
      "cell_type": "code",
      "execution_count": null,
      "id": "9931ca6c",
      "metadata": {
        "id": "9931ca6c"
      },
      "outputs": [],
      "source": [
        "import pandas as pd\n",
        "import matplotlib.pyplot as plt"
      ]
    },
    {
      "cell_type": "code",
      "execution_count": null,
      "id": "d66bf877",
      "metadata": {
        "id": "d66bf877"
      },
      "outputs": [],
      "source": [
        "# Carregando os dados\n",
        "dados_fifa = pd.read_csv('data_fifa2019.csv', index_col = 0)"
      ]
    },
    {
      "cell_type": "code",
      "execution_count": null,
      "id": "b4a97735",
      "metadata": {
        "id": "b4a97735",
        "colab": {
          "base_uri": "https://localhost:8080/",
          "height": 324
        },
        "outputId": "425c79a3-6fc2-425b-c5be-1f67a3597316"
      },
      "outputs": [
        {
          "output_type": "execute_result",
          "data": {
            "text/plain": [
              "       ID               Name  Age  \\\n",
              "0  158023           L. Messi   31   \n",
              "1   20801  Cristiano Ronaldo   33   \n",
              "2  190871          Neymar Jr   26   \n",
              "\n",
              "                                            Photo Nationality  \\\n",
              "0  https://cdn.sofifa.org/players/4/19/158023.png   Argentina   \n",
              "1   https://cdn.sofifa.org/players/4/19/20801.png    Portugal   \n",
              "2  https://cdn.sofifa.org/players/4/19/190871.png      Brazil   \n",
              "\n",
              "                                  Flag  Overall  Potential  \\\n",
              "0  https://cdn.sofifa.org/flags/52.png       94         94   \n",
              "1  https://cdn.sofifa.org/flags/38.png       94         94   \n",
              "2  https://cdn.sofifa.org/flags/54.png       92         93   \n",
              "\n",
              "                  Club                                     Club Logo  ...  \\\n",
              "0         FC Barcelona  https://cdn.sofifa.org/teams/2/light/241.png  ...   \n",
              "1             Juventus   https://cdn.sofifa.org/teams/2/light/45.png  ...   \n",
              "2  Paris Saint-Germain   https://cdn.sofifa.org/teams/2/light/73.png  ...   \n",
              "\n",
              "  Composure Marking  StandingTackle SlidingTackle  GKDiving  GKHandling  \\\n",
              "0      96.0    33.0            28.0          26.0       6.0        11.0   \n",
              "1      95.0    28.0            31.0          23.0       7.0        11.0   \n",
              "2      94.0    27.0            24.0          33.0       9.0         9.0   \n",
              "\n",
              "   GKKicking GKPositioning GKReflexes Release Clause  \n",
              "0       15.0          14.0        8.0        €226.5M  \n",
              "1       15.0          14.0       11.0        €127.1M  \n",
              "2       15.0          15.0       11.0        €228.1M  \n",
              "\n",
              "[3 rows x 88 columns]"
            ],
            "text/html": [
              "\n",
              "  <div id=\"df-a355b240-5b83-4cfe-8115-c3d065f48b02\">\n",
              "    <div class=\"colab-df-container\">\n",
              "      <div>\n",
              "<style scoped>\n",
              "    .dataframe tbody tr th:only-of-type {\n",
              "        vertical-align: middle;\n",
              "    }\n",
              "\n",
              "    .dataframe tbody tr th {\n",
              "        vertical-align: top;\n",
              "    }\n",
              "\n",
              "    .dataframe thead th {\n",
              "        text-align: right;\n",
              "    }\n",
              "</style>\n",
              "<table border=\"1\" class=\"dataframe\">\n",
              "  <thead>\n",
              "    <tr style=\"text-align: right;\">\n",
              "      <th></th>\n",
              "      <th>ID</th>\n",
              "      <th>Name</th>\n",
              "      <th>Age</th>\n",
              "      <th>Photo</th>\n",
              "      <th>Nationality</th>\n",
              "      <th>Flag</th>\n",
              "      <th>Overall</th>\n",
              "      <th>Potential</th>\n",
              "      <th>Club</th>\n",
              "      <th>Club Logo</th>\n",
              "      <th>...</th>\n",
              "      <th>Composure</th>\n",
              "      <th>Marking</th>\n",
              "      <th>StandingTackle</th>\n",
              "      <th>SlidingTackle</th>\n",
              "      <th>GKDiving</th>\n",
              "      <th>GKHandling</th>\n",
              "      <th>GKKicking</th>\n",
              "      <th>GKPositioning</th>\n",
              "      <th>GKReflexes</th>\n",
              "      <th>Release Clause</th>\n",
              "    </tr>\n",
              "  </thead>\n",
              "  <tbody>\n",
              "    <tr>\n",
              "      <th>0</th>\n",
              "      <td>158023</td>\n",
              "      <td>L. Messi</td>\n",
              "      <td>31</td>\n",
              "      <td>https://cdn.sofifa.org/players/4/19/158023.png</td>\n",
              "      <td>Argentina</td>\n",
              "      <td>https://cdn.sofifa.org/flags/52.png</td>\n",
              "      <td>94</td>\n",
              "      <td>94</td>\n",
              "      <td>FC Barcelona</td>\n",
              "      <td>https://cdn.sofifa.org/teams/2/light/241.png</td>\n",
              "      <td>...</td>\n",
              "      <td>96.0</td>\n",
              "      <td>33.0</td>\n",
              "      <td>28.0</td>\n",
              "      <td>26.0</td>\n",
              "      <td>6.0</td>\n",
              "      <td>11.0</td>\n",
              "      <td>15.0</td>\n",
              "      <td>14.0</td>\n",
              "      <td>8.0</td>\n",
              "      <td>€226.5M</td>\n",
              "    </tr>\n",
              "    <tr>\n",
              "      <th>1</th>\n",
              "      <td>20801</td>\n",
              "      <td>Cristiano Ronaldo</td>\n",
              "      <td>33</td>\n",
              "      <td>https://cdn.sofifa.org/players/4/19/20801.png</td>\n",
              "      <td>Portugal</td>\n",
              "      <td>https://cdn.sofifa.org/flags/38.png</td>\n",
              "      <td>94</td>\n",
              "      <td>94</td>\n",
              "      <td>Juventus</td>\n",
              "      <td>https://cdn.sofifa.org/teams/2/light/45.png</td>\n",
              "      <td>...</td>\n",
              "      <td>95.0</td>\n",
              "      <td>28.0</td>\n",
              "      <td>31.0</td>\n",
              "      <td>23.0</td>\n",
              "      <td>7.0</td>\n",
              "      <td>11.0</td>\n",
              "      <td>15.0</td>\n",
              "      <td>14.0</td>\n",
              "      <td>11.0</td>\n",
              "      <td>€127.1M</td>\n",
              "    </tr>\n",
              "    <tr>\n",
              "      <th>2</th>\n",
              "      <td>190871</td>\n",
              "      <td>Neymar Jr</td>\n",
              "      <td>26</td>\n",
              "      <td>https://cdn.sofifa.org/players/4/19/190871.png</td>\n",
              "      <td>Brazil</td>\n",
              "      <td>https://cdn.sofifa.org/flags/54.png</td>\n",
              "      <td>92</td>\n",
              "      <td>93</td>\n",
              "      <td>Paris Saint-Germain</td>\n",
              "      <td>https://cdn.sofifa.org/teams/2/light/73.png</td>\n",
              "      <td>...</td>\n",
              "      <td>94.0</td>\n",
              "      <td>27.0</td>\n",
              "      <td>24.0</td>\n",
              "      <td>33.0</td>\n",
              "      <td>9.0</td>\n",
              "      <td>9.0</td>\n",
              "      <td>15.0</td>\n",
              "      <td>15.0</td>\n",
              "      <td>11.0</td>\n",
              "      <td>€228.1M</td>\n",
              "    </tr>\n",
              "  </tbody>\n",
              "</table>\n",
              "<p>3 rows × 88 columns</p>\n",
              "</div>\n",
              "      <button class=\"colab-df-convert\" onclick=\"convertToInteractive('df-a355b240-5b83-4cfe-8115-c3d065f48b02')\"\n",
              "              title=\"Convert this dataframe to an interactive table.\"\n",
              "              style=\"display:none;\">\n",
              "        \n",
              "  <svg xmlns=\"http://www.w3.org/2000/svg\" height=\"24px\"viewBox=\"0 0 24 24\"\n",
              "       width=\"24px\">\n",
              "    <path d=\"M0 0h24v24H0V0z\" fill=\"none\"/>\n",
              "    <path d=\"M18.56 5.44l.94 2.06.94-2.06 2.06-.94-2.06-.94-.94-2.06-.94 2.06-2.06.94zm-11 1L8.5 8.5l.94-2.06 2.06-.94-2.06-.94L8.5 2.5l-.94 2.06-2.06.94zm10 10l.94 2.06.94-2.06 2.06-.94-2.06-.94-.94-2.06-.94 2.06-2.06.94z\"/><path d=\"M17.41 7.96l-1.37-1.37c-.4-.4-.92-.59-1.43-.59-.52 0-1.04.2-1.43.59L10.3 9.45l-7.72 7.72c-.78.78-.78 2.05 0 2.83L4 21.41c.39.39.9.59 1.41.59.51 0 1.02-.2 1.41-.59l7.78-7.78 2.81-2.81c.8-.78.8-2.07 0-2.86zM5.41 20L4 18.59l7.72-7.72 1.47 1.35L5.41 20z\"/>\n",
              "  </svg>\n",
              "      </button>\n",
              "      \n",
              "  <style>\n",
              "    .colab-df-container {\n",
              "      display:flex;\n",
              "      flex-wrap:wrap;\n",
              "      gap: 12px;\n",
              "    }\n",
              "\n",
              "    .colab-df-convert {\n",
              "      background-color: #E8F0FE;\n",
              "      border: none;\n",
              "      border-radius: 50%;\n",
              "      cursor: pointer;\n",
              "      display: none;\n",
              "      fill: #1967D2;\n",
              "      height: 32px;\n",
              "      padding: 0 0 0 0;\n",
              "      width: 32px;\n",
              "    }\n",
              "\n",
              "    .colab-df-convert:hover {\n",
              "      background-color: #E2EBFA;\n",
              "      box-shadow: 0px 1px 2px rgba(60, 64, 67, 0.3), 0px 1px 3px 1px rgba(60, 64, 67, 0.15);\n",
              "      fill: #174EA6;\n",
              "    }\n",
              "\n",
              "    [theme=dark] .colab-df-convert {\n",
              "      background-color: #3B4455;\n",
              "      fill: #D2E3FC;\n",
              "    }\n",
              "\n",
              "    [theme=dark] .colab-df-convert:hover {\n",
              "      background-color: #434B5C;\n",
              "      box-shadow: 0px 1px 3px 1px rgba(0, 0, 0, 0.15);\n",
              "      filter: drop-shadow(0px 1px 2px rgba(0, 0, 0, 0.3));\n",
              "      fill: #FFFFFF;\n",
              "    }\n",
              "  </style>\n",
              "\n",
              "      <script>\n",
              "        const buttonEl =\n",
              "          document.querySelector('#df-a355b240-5b83-4cfe-8115-c3d065f48b02 button.colab-df-convert');\n",
              "        buttonEl.style.display =\n",
              "          google.colab.kernel.accessAllowed ? 'block' : 'none';\n",
              "\n",
              "        async function convertToInteractive(key) {\n",
              "          const element = document.querySelector('#df-a355b240-5b83-4cfe-8115-c3d065f48b02');\n",
              "          const dataTable =\n",
              "            await google.colab.kernel.invokeFunction('convertToInteractive',\n",
              "                                                     [key], {});\n",
              "          if (!dataTable) return;\n",
              "\n",
              "          const docLinkHtml = 'Like what you see? Visit the ' +\n",
              "            '<a target=\"_blank\" href=https://colab.research.google.com/notebooks/data_table.ipynb>data table notebook</a>'\n",
              "            + ' to learn more about interactive tables.';\n",
              "          element.innerHTML = '';\n",
              "          dataTable['output_type'] = 'display_data';\n",
              "          await google.colab.output.renderOutput(dataTable, element);\n",
              "          const docLink = document.createElement('div');\n",
              "          docLink.innerHTML = docLinkHtml;\n",
              "          element.appendChild(docLink);\n",
              "        }\n",
              "      </script>\n",
              "    </div>\n",
              "  </div>\n",
              "  "
            ]
          },
          "metadata": {},
          "execution_count": 60
        }
      ],
      "source": [
        "dados_fifa.head(3)"
      ]
    },
    {
      "cell_type": "markdown",
      "id": "a0802457",
      "metadata": {
        "id": "a0802457"
      },
      "source": [
        "Vamos olhar como estão os dados das colunas através do .info()\n",
        "\n",
        "Perceba que as colunas desejadas como preditoras não possuem dados vazios."
      ]
    },
    {
      "cell_type": "code",
      "execution_count": null,
      "id": "ea53d6f2",
      "metadata": {
        "id": "ea53d6f2",
        "colab": {
          "base_uri": "https://localhost:8080/"
        },
        "outputId": "e5e1ffc2-8ea0-40d8-e27c-b13d1e943066"
      },
      "outputs": [
        {
          "output_type": "stream",
          "name": "stdout",
          "text": [
            "<class 'pandas.core.frame.DataFrame'>\n",
            "Int64Index: 18207 entries, 0 to 18206\n",
            "Data columns (total 88 columns):\n",
            " #   Column                    Non-Null Count  Dtype  \n",
            "---  ------                    --------------  -----  \n",
            " 0   ID                        18207 non-null  int64  \n",
            " 1   Name                      18207 non-null  object \n",
            " 2   Age                       18207 non-null  int64  \n",
            " 3   Photo                     18207 non-null  object \n",
            " 4   Nationality               18207 non-null  object \n",
            " 5   Flag                      18207 non-null  object \n",
            " 6   Overall                   18207 non-null  int64  \n",
            " 7   Potential                 18207 non-null  int64  \n",
            " 8   Club                      17966 non-null  object \n",
            " 9   Club Logo                 18207 non-null  object \n",
            " 10  Value                     18207 non-null  object \n",
            " 11  Wage                      18207 non-null  object \n",
            " 12  Special                   18207 non-null  int64  \n",
            " 13  Preferred Foot            18159 non-null  object \n",
            " 14  International Reputation  18159 non-null  float64\n",
            " 15  Weak Foot                 18159 non-null  float64\n",
            " 16  Skill Moves               18159 non-null  float64\n",
            " 17  Work Rate                 18159 non-null  object \n",
            " 18  Body Type                 18159 non-null  object \n",
            " 19  Real Face                 18159 non-null  object \n",
            " 20  Position                  18147 non-null  object \n",
            " 21  Jersey Number             18147 non-null  float64\n",
            " 22  Joined                    16654 non-null  object \n",
            " 23  Loaned From               1264 non-null   object \n",
            " 24  Contract Valid Until      17918 non-null  object \n",
            " 25  Height                    18159 non-null  object \n",
            " 26  Weight                    18159 non-null  object \n",
            " 27  LS                        16122 non-null  object \n",
            " 28  ST                        16122 non-null  object \n",
            " 29  RS                        16122 non-null  object \n",
            " 30  LW                        16122 non-null  object \n",
            " 31  LF                        16122 non-null  object \n",
            " 32  CF                        16122 non-null  object \n",
            " 33  RF                        16122 non-null  object \n",
            " 34  RW                        16122 non-null  object \n",
            " 35  LAM                       16122 non-null  object \n",
            " 36  CAM                       16122 non-null  object \n",
            " 37  RAM                       16122 non-null  object \n",
            " 38  LM                        16122 non-null  object \n",
            " 39  LCM                       16122 non-null  object \n",
            " 40  CM                        16122 non-null  object \n",
            " 41  RCM                       16122 non-null  object \n",
            " 42  RM                        16122 non-null  object \n",
            " 43  LWB                       16122 non-null  object \n",
            " 44  LDM                       16122 non-null  object \n",
            " 45  CDM                       16122 non-null  object \n",
            " 46  RDM                       16122 non-null  object \n",
            " 47  RWB                       16122 non-null  object \n",
            " 48  LB                        16122 non-null  object \n",
            " 49  LCB                       16122 non-null  object \n",
            " 50  CB                        16122 non-null  object \n",
            " 51  RCB                       16122 non-null  object \n",
            " 52  RB                        16122 non-null  object \n",
            " 53  Crossing                  18159 non-null  float64\n",
            " 54  Finishing                 18159 non-null  float64\n",
            " 55  HeadingAccuracy           18159 non-null  float64\n",
            " 56  ShortPassing              18159 non-null  float64\n",
            " 57  Volleys                   18159 non-null  float64\n",
            " 58  Dribbling                 18159 non-null  float64\n",
            " 59  Curve                     18159 non-null  float64\n",
            " 60  FKAccuracy                18159 non-null  float64\n",
            " 61  LongPassing               18159 non-null  float64\n",
            " 62  BallControl               18159 non-null  float64\n",
            " 63  Acceleration              18159 non-null  float64\n",
            " 64  SprintSpeed               18159 non-null  float64\n",
            " 65  Agility                   18159 non-null  float64\n",
            " 66  Reactions                 18159 non-null  float64\n",
            " 67  Balance                   18159 non-null  float64\n",
            " 68  ShotPower                 18159 non-null  float64\n",
            " 69  Jumping                   18159 non-null  float64\n",
            " 70  Stamina                   18159 non-null  float64\n",
            " 71  Strength                  18159 non-null  float64\n",
            " 72  LongShots                 18159 non-null  float64\n",
            " 73  Aggression                18159 non-null  float64\n",
            " 74  Interceptions             18159 non-null  float64\n",
            " 75  Positioning               18159 non-null  float64\n",
            " 76  Vision                    18159 non-null  float64\n",
            " 77  Penalties                 18159 non-null  float64\n",
            " 78  Composure                 18159 non-null  float64\n",
            " 79  Marking                   18159 non-null  float64\n",
            " 80  StandingTackle            18159 non-null  float64\n",
            " 81  SlidingTackle             18159 non-null  float64\n",
            " 82  GKDiving                  18159 non-null  float64\n",
            " 83  GKHandling                18159 non-null  float64\n",
            " 84  GKKicking                 18159 non-null  float64\n",
            " 85  GKPositioning             18159 non-null  float64\n",
            " 86  GKReflexes                18159 non-null  float64\n",
            " 87  Release Clause            16643 non-null  object \n",
            "dtypes: float64(38), int64(5), object(45)\n",
            "memory usage: 12.4+ MB\n"
          ]
        }
      ],
      "source": [
        "dados_fifa.info()"
      ]
    },
    {
      "cell_type": "markdown",
      "id": "a52a08f9",
      "metadata": {
        "id": "a52a08f9"
      },
      "source": [
        "Vamos converter as colunas Value e Wage que estão em strings para valores numéricos em Euros:"
      ]
    },
    {
      "cell_type": "code",
      "execution_count": null,
      "id": "bc086cfe",
      "metadata": {
        "id": "bc086cfe"
      },
      "outputs": [],
      "source": [
        "dados_fifa['Value'][0]"
      ]
    },
    {
      "cell_type": "code",
      "execution_count": null,
      "id": "333855ff",
      "metadata": {
        "id": "333855ff"
      },
      "outputs": [],
      "source": [
        "def convert_currency(valor):              # Como converter de strings pra numero\n",
        "    valor = valor.replace('€','')\n",
        "    \n",
        "    if 'K' in valor:\n",
        "        valor = 1000*float(valor.replace('K',''))\n",
        "    elif 'M' in valor:\n",
        "        valor = 1000000*float(valor.replace('M',''))\n",
        "    else:\n",
        "        valor = float(valor)\n",
        "        \n",
        "    return valor"
      ]
    },
    {
      "cell_type": "code",
      "execution_count": null,
      "id": "fcf53b80",
      "metadata": {
        "id": "fcf53b80"
      },
      "outputs": [],
      "source": [
        "dados_fifa['Value'] = dados_fifa['Value'].apply(convert_currency)\n",
        "dados_fifa['Wage'] = dados_fifa['Wage'].apply(convert_currency)"
      ]
    },
    {
      "cell_type": "code",
      "execution_count": null,
      "id": "e80fe521",
      "metadata": {
        "id": "e80fe521",
        "colab": {
          "base_uri": "https://localhost:8080/"
        },
        "outputId": "8b93f3ba-4f69-484f-90a6-095a7633957e"
      },
      "outputs": [
        {
          "output_type": "execute_result",
          "data": {
            "text/plain": [
              "110500000.0"
            ]
          },
          "metadata": {},
          "execution_count": 65
        }
      ],
      "source": [
        "dados_fifa['Value'][0]"
      ]
    },
    {
      "cell_type": "markdown",
      "id": "7030c93a",
      "metadata": {
        "id": "7030c93a"
      },
      "source": [
        "### Exemplo 2 - Segundo passo: separar os dados"
      ]
    },
    {
      "cell_type": "code",
      "execution_count": null,
      "id": "064664be",
      "metadata": {
        "id": "064664be"
      },
      "outputs": [],
      "source": [
        "from sklearn.model_selection import train_test_split"
      ]
    },
    {
      "cell_type": "code",
      "execution_count": null,
      "id": "44789ad6",
      "metadata": {
        "id": "44789ad6"
      },
      "outputs": [],
      "source": [
        "# Escolhendo as colunas preditivas e alvo\n",
        "x = dados_fifa[['Age','Value','Wage']] # Selecionando 3 colunas (perceba o uso de dois colchetes)\n",
        "y = dados_fifa['Overall']                # Valor alvo\n",
        "\n",
        "# Dividindo conjunto de treinamento e conjunto de teste\n",
        "x_train, x_test, y_train, y_test = train_test_split(x, y, test_size = 0.2, random_state = 42)"
      ]
    },
    {
      "cell_type": "code",
      "execution_count": null,
      "id": "53dadfab",
      "metadata": {
        "id": "53dadfab"
      },
      "outputs": [],
      "source": [
        "x.describe()"
      ]
    },
    {
      "cell_type": "markdown",
      "id": "e2d56911",
      "metadata": {
        "id": "e2d56911"
      },
      "source": [
        "### Exemplo 2 - Terceiro passo: transformar os dados"
      ]
    },
    {
      "cell_type": "code",
      "execution_count": null,
      "id": "49bc6607",
      "metadata": {
        "id": "49bc6607"
      },
      "outputs": [],
      "source": [
        "from sklearn.preprocessing import StandardScaler # Importando o Escalonador de Normalização"
      ]
    },
    {
      "cell_type": "code",
      "execution_count": null,
      "id": "a6562159",
      "metadata": {
        "id": "a6562159"
      },
      "outputs": [],
      "source": [
        "# Passo 3 - Escalonamento\n",
        "scaler = StandardScaler() # Criando o objeto de escalonamento\n",
        "scaler.fit(x_train) # Passando os dados de treinamento para encontrar a escala\n",
        "\n",
        "x_train_escalonado = scaler.transform(x_train)\n",
        "x_test_escalonado = scaler.transform(x_test)"
      ]
    },
    {
      "cell_type": "markdown",
      "id": "328a1c43",
      "metadata": {
        "id": "328a1c43"
      },
      "source": [
        "### Exemplo 2 - Quarto passo: treinar o modelo\n",
        "\n",
        "Vamos Escalonar os dados antes de usá-los, realizando assim o passo intermediário de transformação."
      ]
    },
    {
      "cell_type": "code",
      "execution_count": null,
      "id": "d8c0822e",
      "metadata": {
        "id": "d8c0822e"
      },
      "outputs": [],
      "source": [
        "from sklearn.linear_model import LinearRegression"
      ]
    },
    {
      "cell_type": "code",
      "execution_count": null,
      "id": "6167afdb",
      "metadata": {
        "id": "6167afdb"
      },
      "outputs": [],
      "source": [
        "lr = LinearRegression()  # Criamos o objeto do regressor (não mudamos nenhum hiperpârametro)\n",
        "\n",
        "lr.fit(x_train_escalonado,y_train) # Treinamos o regressor passando apenas o conjunto de dados de treinamento "
      ]
    },
    {
      "cell_type": "markdown",
      "id": "a3876ce5",
      "metadata": {
        "id": "a3876ce5"
      },
      "source": [
        "### Exemplo 2 - Quinto passo: testar e avaliar"
      ]
    },
    {
      "cell_type": "code",
      "execution_count": null,
      "id": "67fbc359",
      "metadata": {
        "id": "67fbc359"
      },
      "outputs": [],
      "source": [
        "from sklearn.metrics import r2_score"
      ]
    },
    {
      "cell_type": "code",
      "execution_count": null,
      "id": "4de2d7ee",
      "metadata": {
        "id": "4de2d7ee"
      },
      "outputs": [],
      "source": [
        "y_predicoes = lr.predict(x_test_escalonado) "
      ]
    },
    {
      "cell_type": "code",
      "execution_count": null,
      "id": "402f7ba9",
      "metadata": {
        "id": "402f7ba9"
      },
      "outputs": [],
      "source": [
        "R2 = r2_score(y_true = y_test,      # Gabarito\n",
        "              y_pred = y_predicoes) # Respostas do algoritmo ao teste realizado\n",
        "print('R2: ', R2)  # Quanto mais próximos de 1 melhor\n",
        "\n",
        "MAE = mean_absolute_error(y_true = y_test,      # Gabarito\n",
        "                          y_pred = y_predicoes) # Respostas do algoritmo ao teste realizado\n",
        "print('MAE: ', MAE)\n",
        "\n",
        "MSE = mean_squared_error(y_true = y_test,      # Gabarito\n",
        "                         y_pred = y_predicoes) # Respostas do algoritmo ao teste realizado\n",
        "print('MSE: ', MSE)\n",
        "print('raiz MSE: ', MSE**0.5)"
      ]
    },
    {
      "cell_type": "markdown",
      "id": "2fa21a98",
      "metadata": {
        "id": "2fa21a98"
      },
      "source": [
        "### Voltando para a análise exploratória \n",
        "\n",
        "Vamos aprender como transformar as colunas através de outras funções matemáticas\n",
        "\n",
        "Nem sempre a relação entre os dados é puramente linear. Por vezes temos relações polinômias, sinusoidais, entre outras. \n",
        "\n",
        "Como podemos adequar nossos dados com relações diferentes para modelos de Regressão Linear?\n",
        "\n",
        "Primeiro vamos tentar ver como nossos dados se relacionam plotando gráficos de dispersão entre as colunas descritivas e colunas alvo:"
      ]
    },
    {
      "cell_type": "code",
      "execution_count": null,
      "id": "0e63e860",
      "metadata": {
        "id": "0e63e860"
      },
      "outputs": [],
      "source": [
        "fig, ax = plt.subplots(1,3, figsize=(12, 4))\n",
        "\n",
        "# Plot de dispersão (scatter)\n",
        "sns.scatterplot(ax = ax[0], data = dados_fifa, x = 'Age',   y='Overall', color='b', alpha=0.5)\n",
        "sns.scatterplot(ax = ax[1], data = dados_fifa, x = 'Value', y='Overall', color='g', alpha=0.5)\n",
        "sns.scatterplot(ax = ax[2], data = dados_fifa, x = 'Wage',  y='Overall', color='r', alpha=0.5)\n",
        "\n",
        "# Aqui estamos explicitamente dando nome aos eixos do gráfico\n",
        "ax[0].set_xlabel('Age'), ax[0].set_ylabel('Overall')\n",
        "ax[1].set_xlabel('Value'), ax[1].set_ylabel('Overall')\n",
        "ax[2].set_xlabel('Wage'), ax[2].set_ylabel('Overall')\n",
        "\n",
        "# Colocando grid\n",
        "ax[0].grid(), ax[1].grid(), ax[2].grid()\n",
        "\n",
        "#ax[1].set_xscale('log')\n",
        "#ax[2].set_xscale('log')\n",
        "\n",
        "# Vamos aumentar a separação entre os gráficos\n",
        "plt.subplots_adjust(wspace = 0.3)\n",
        "\n",
        "# Aumentando o tamanho da fonte (letra)\n",
        "plt.rcParams.update({'font.size': 12})"
      ]
    },
    {
      "cell_type": "markdown",
      "id": "ca5ae827",
      "metadata": {
        "id": "ca5ae827"
      },
      "source": [
        "Nossos gráficos sugerem que o Overall depende mais linearmente do logaritmo de Wage e do logaritmo de Value. \n",
        "\n",
        "O Numpy tem várias funções matemáticas prontas (https://numpy.org/doc/stable/reference/routines.math.html), entre elas o log10, que tira o logaritmo na base 10 do valor passado. Vamos usar essa função para transformar nossos dados."
      ]
    },
    {
      "cell_type": "code",
      "execution_count": null,
      "id": "62390674",
      "metadata": {
        "id": "62390674"
      },
      "outputs": [],
      "source": [
        "import numpy as np # O numpy tem funções matemáticas variadas prontas dentro dele\n",
        "from sklearn.preprocessing import FunctionTransformer  # Módulo para transformar dados por funções"
      ]
    },
    {
      "cell_type": "code",
      "execution_count": null,
      "id": "f4643508",
      "metadata": {
        "id": "f4643508"
      },
      "outputs": [],
      "source": [
        "# Criando nosso transformador\n",
        "transformador = FunctionTransformer(np.log10)"
      ]
    },
    {
      "cell_type": "code",
      "execution_count": null,
      "id": "01d0f2ab",
      "metadata": {
        "id": "01d0f2ab"
      },
      "outputs": [],
      "source": [
        "x1 = dados_fifa['Age']\n",
        "x2 = transformador.transform(dados_fifa['Value'])\n",
        "x3 = transformador.transform(dados_fifa['Wage'])"
      ]
    },
    {
      "cell_type": "code",
      "execution_count": null,
      "id": "fc41d554",
      "metadata": {
        "id": "fc41d554"
      },
      "outputs": [],
      "source": [
        "dados_modelo_log = {'Age':x1,\n",
        "               'log_Value':x2,\n",
        "               'log_Wage':x3,\n",
        "               'Overall':dados_fifa['Overall']\n",
        "            }"
      ]
    },
    {
      "cell_type": "code",
      "execution_count": null,
      "id": "ebf108ce",
      "metadata": {
        "id": "ebf108ce"
      },
      "outputs": [],
      "source": [
        "dados_modelo_log = pd.DataFrame(data=dados_modelo_log)"
      ]
    },
    {
      "cell_type": "code",
      "execution_count": null,
      "id": "539ed562",
      "metadata": {
        "id": "539ed562"
      },
      "outputs": [],
      "source": [
        "dados_modelo_log.describe()"
      ]
    },
    {
      "cell_type": "code",
      "execution_count": null,
      "id": "f9a21070",
      "metadata": {
        "id": "f9a21070"
      },
      "outputs": [],
      "source": [
        "dados_modelo_log.info()"
      ]
    },
    {
      "cell_type": "markdown",
      "id": "1c6da85f",
      "metadata": {
        "id": "1c6da85f"
      },
      "source": [
        "O problema de usar a função logaritmica é que ela não é definida para o zero e valores negativos. Dessa forma ela gera valores -inf quando não consegue calcular. Vamos substituir todos os valores -inf por 0."
      ]
    },
    {
      "cell_type": "code",
      "execution_count": null,
      "id": "0739e0ee",
      "metadata": {
        "id": "0739e0ee"
      },
      "outputs": [],
      "source": [
        "dados_modelo_log.replace([np.inf, -np.inf], 0, inplace=True)"
      ]
    },
    {
      "cell_type": "code",
      "execution_count": null,
      "id": "37188cd2",
      "metadata": {
        "id": "37188cd2"
      },
      "outputs": [],
      "source": [
        "dados_modelo_log.describe()"
      ]
    },
    {
      "cell_type": "code",
      "execution_count": null,
      "id": "d0496141",
      "metadata": {
        "id": "d0496141"
      },
      "outputs": [],
      "source": [
        "fig, ax = plt.subplots(1,3, figsize=(12, 4))\n",
        "\n",
        "# Plot de dispersão (scatter)\n",
        "sns.scatterplot(ax = ax[0], data = dados_modelo_log, x = 'Age',   y='Overall', color='b', alpha=0.5)\n",
        "sns.scatterplot(ax = ax[1], data = dados_modelo_log, x = 'log_Value', y='Overall', color='g', alpha=0.5)\n",
        "sns.scatterplot(ax = ax[2], data = dados_modelo_log, x = 'log_Wage',  y='Overall', color='r', alpha=0.5)\n",
        "\n",
        "# Aqui estamos explicitamente dando nome aos eixos do gráfico\n",
        "ax[0].set_xlabel('Age'), ax[0].set_ylabel('Overall')\n",
        "ax[1].set_xlabel('Value'), ax[1].set_ylabel('Overall')\n",
        "ax[2].set_xlabel('Wage'), ax[2].set_ylabel('Overall')\n",
        "\n",
        "# Colocando grid\n",
        "ax[0].grid(), ax[1].grid(), ax[2].grid()\n",
        "\n",
        "# Vamos aumentar a separação entre os gráficos\n",
        "plt.subplots_adjust(wspace = 0.3)\n",
        "\n",
        "# Aumentando o tamanho da fonte (letra)\n",
        "plt.rcParams.update({'font.size': 12})"
      ]
    },
    {
      "cell_type": "code",
      "execution_count": null,
      "id": "d6ed81e5",
      "metadata": {
        "id": "d6ed81e5"
      },
      "outputs": [],
      "source": [
        "# Removendo os zeros"
      ]
    },
    {
      "cell_type": "code",
      "execution_count": null,
      "id": "ff59f813",
      "metadata": {
        "id": "ff59f813"
      },
      "outputs": [],
      "source": [
        "dados_modelo_log2  = dados_modelo_log[dados_modelo_log['log_Value']>0]\n",
        "dados_modelo_log3  = dados_modelo_log2[dados_modelo_log2['log_Wage']>0]"
      ]
    },
    {
      "cell_type": "markdown",
      "id": "1cef4fa6",
      "metadata": {
        "id": "1cef4fa6"
      },
      "source": [
        "Treinando um algoritmo de Regressão Linear para prever o overall:"
      ]
    },
    {
      "cell_type": "code",
      "execution_count": null,
      "id": "fcd9714b",
      "metadata": {
        "id": "fcd9714b"
      },
      "outputs": [],
      "source": [
        "# Passo 2 - Separando dados\n",
        "x = dados_modelo_log3.drop(columns=['Overall']) # Selecionando 3 colunas\n",
        "y = dados_modelo_log3['Overall']                # Valor alvo\n",
        "x_train, x_test, y_train, y_test = train_test_split(x, y, test_size = 0.2, random_state = 42)\n",
        "\n",
        "# Passo 3 - Escalonamento\n",
        "scaler = StandardScaler() # Criando o objeto de escalonamento\n",
        "scaler.fit(x_train) # Passando os dados de treinamento para encontrar a escala\n",
        "\n",
        "x_train_escalonado = scaler.transform(x_train)\n",
        "x_test_escalonado = scaler.transform(x_test)\n",
        "\n",
        "# Passo 4 - Treinar\n",
        "lr = LinearRegression()  # Criamos o objeto do regressor (não mudamos nenhum hiperpârametro)\n",
        "lr.fit(x_train_escalonado,y_train) # Treinamos o regressor passando apenas o conjunto de dados de treinamento \n",
        "\n",
        "# Passo 5 - Avaliar\n",
        "y_predicoes = lr.predict(x_test_escalonado) \n",
        "\n",
        "R2 = r2_score(y_true = y_test,      # Gabarito\n",
        "              y_pred = y_predicoes) # Respostas do algoritmo ao teste realizado\n",
        "print('R2: ', R2)  # Quanto mais próximos de 1 melhor\n",
        "\n",
        "MAE = mean_absolute_error(y_true = y_test,      # Gabarito\n",
        "                          y_pred = y_predicoes) # Respostas do algoritmo ao teste realizado\n",
        "print('MAE: ', MAE)\n",
        "\n",
        "MSE = mean_squared_error(y_true = y_test,      # Gabarito\n",
        "                         y_pred = y_predicoes) # Respostas do algoritmo ao teste realizado\n",
        "print('MSE: ', MSE)\n",
        "print('raiz MSE: ', MSE**0.5)"
      ]
    },
    {
      "cell_type": "markdown",
      "id": "a25caeab",
      "metadata": {
        "id": "a25caeab"
      },
      "source": [
        "------------------------------\n",
        "## Exercício - Fifa2019 (a)\n",
        "\n",
        "Por que existe um grupo de jogadores com salário igual a zero e valor igual a zero?\n",
        "\n",
        "Quem são eles?"
      ]
    },
    {
      "cell_type": "code",
      "execution_count": null,
      "id": "eb348a73",
      "metadata": {
        "id": "eb348a73"
      },
      "outputs": [],
      "source": [
        "## Coloque seu código aqui"
      ]
    },
    {
      "cell_type": "code",
      "execution_count": null,
      "id": "a65f9cb7",
      "metadata": {
        "id": "a65f9cb7"
      },
      "outputs": [],
      "source": [
        "## Coloque sua resposta aqui"
      ]
    },
    {
      "cell_type": "markdown",
      "id": "e79d0bfc",
      "metadata": {
        "id": "e79d0bfc"
      },
      "source": [
        "------------------------------\n",
        "## Exercício - Fifa2019 (b)\n",
        "\n",
        "Agora queremos repetir o exemplo 2 usando outras colunas de dados, inclusive colunas que não possuem todos os valores para cada jogador.\n",
        "\n",
        "Pense em colunas que você acredita serem importantes para o modelo. Selecione-as. \n",
        "\n",
        "Em seguida, escolha um modelo de Regressão. Pode ser uma Regressão Linear simples, uma Rede Neural Perceptron Multicamada ou uma Regressão Linear modificada para Funções Não Lineares.\n",
        "\n",
        "Qual foi o R² obtido?"
      ]
    },
    {
      "cell_type": "markdown",
      "id": "70b1ad9d",
      "metadata": {
        "id": "70b1ad9d"
      },
      "source": [
        "### Exercício - Primeiro passo: carregar os dados"
      ]
    },
    {
      "cell_type": "code",
      "execution_count": null,
      "id": "deb9f09f",
      "metadata": {
        "id": "deb9f09f"
      },
      "outputs": [],
      "source": [
        "import pandas as pd"
      ]
    },
    {
      "cell_type": "code",
      "execution_count": null,
      "id": "6f6e3188",
      "metadata": {
        "id": "6f6e3188"
      },
      "outputs": [],
      "source": [
        "# Carregando os dados\n",
        "dados_fifa = pd.read_csv('data_fifa2019.csv', index_col = 0)"
      ]
    },
    {
      "cell_type": "code",
      "execution_count": null,
      "id": "a03d54c7",
      "metadata": {
        "id": "a03d54c7"
      },
      "outputs": [],
      "source": [
        "dados_fifa.head(3)"
      ]
    },
    {
      "cell_type": "code",
      "execution_count": null,
      "id": "ff18bc71",
      "metadata": {
        "id": "ff18bc71"
      },
      "outputs": [],
      "source": [
        "# Arrumando as colunas com de Valor, Salário e Peso para serem colunas numéricas\n",
        "dados_fifa['Value'] = convert_currency(dados_fifa.Value)\n",
        "dados_fifa['Wage'] = convert_currency(dados_fifa.Wage)\n",
        "dados_fifa['Weight'] = dados_fifa.Weight.str.rstrip('lbs').astype('float')\n",
        "\n",
        "\n",
        "# Selecionando colunas com valores numéricos\n",
        "colunas_selecionadas = dados_fifa[['Age', 'Potential', 'Value', 'Wage', 'Special', 'International Reputation',\n",
        "                                   'Weight','HeadingAccuracy', 'ShortPassing', 'Volleys', 'Dribbling', 'Curve',\n",
        "                                   'FKAccuracy','LongPassing', 'BallControl', 'Acceleration', 'SprintSpeed',\n",
        "                                   'Agility', 'Reactions', 'Balance', 'ShotPower', 'Jumping', 'Stamina',\n",
        "                                   'Strength', 'LongShots', 'GKPositioning','Aggression', 'Interceptions',\n",
        "                                   'Positioning', 'Vision', 'Penalties','Composure','Marking', 'StandingTackle',\n",
        "                                   'SlidingTackle', 'GKDiving','GKHandling','GKKicking','GKReflexes', 'Overall']]"
      ]
    },
    {
      "cell_type": "code",
      "execution_count": null,
      "id": "f315f452",
      "metadata": {
        "id": "f315f452"
      },
      "outputs": [],
      "source": [
        "# Excluindo desse meu conjunto de colunas selecionadas as linhas que tem algum valor nulo\n",
        "df_fifa_selecionados = colunas_selecionadas.dropna()"
      ]
    },
    {
      "cell_type": "code",
      "execution_count": null,
      "id": "b7d2ac8a",
      "metadata": {
        "id": "b7d2ac8a"
      },
      "outputs": [],
      "source": [
        "df_fifa_selecionados.info()"
      ]
    },
    {
      "cell_type": "code",
      "execution_count": null,
      "id": "365e83d6",
      "metadata": {
        "id": "365e83d6"
      },
      "outputs": [],
      "source": [
        "df_fifa_selecionados.head()"
      ]
    },
    {
      "cell_type": "markdown",
      "id": "3f9c9bd8",
      "metadata": {
        "id": "3f9c9bd8"
      },
      "source": [
        "### Exercício - Segundo passo: separar os dados"
      ]
    },
    {
      "cell_type": "code",
      "execution_count": null,
      "id": "2b03004d",
      "metadata": {
        "id": "2b03004d"
      },
      "outputs": [],
      "source": [
        "## Coloque seu código aqui"
      ]
    },
    {
      "cell_type": "markdown",
      "id": "4011de58",
      "metadata": {
        "id": "4011de58"
      },
      "source": [
        "### Exercício - Terceiro passo: escalonar os dados"
      ]
    },
    {
      "cell_type": "code",
      "execution_count": null,
      "id": "dd42358d",
      "metadata": {
        "id": "dd42358d"
      },
      "outputs": [],
      "source": [
        "## Coloque seu código aqui"
      ]
    },
    {
      "cell_type": "markdown",
      "id": "5f61ede1",
      "metadata": {
        "id": "5f61ede1"
      },
      "source": [
        "### Exercício - Quarto passo: treinar o modelo"
      ]
    },
    {
      "cell_type": "code",
      "execution_count": null,
      "id": "1d479561",
      "metadata": {
        "id": "1d479561"
      },
      "outputs": [],
      "source": [
        "## Coloque seu código aqui"
      ]
    },
    {
      "cell_type": "markdown",
      "id": "468cd1ca",
      "metadata": {
        "id": "468cd1ca"
      },
      "source": [
        "### Exercício - Quinto passo: testar e avaliar"
      ]
    },
    {
      "cell_type": "code",
      "execution_count": null,
      "id": "5d2e7a5c",
      "metadata": {
        "id": "5d2e7a5c"
      },
      "outputs": [],
      "source": [
        "## Coloque seu código aqui"
      ]
    }
  ],
  "metadata": {
    "kernelspec": {
      "display_name": "Python 3",
      "language": "python",
      "name": "python3"
    },
    "language_info": {
      "codemirror_mode": {
        "name": "ipython",
        "version": 3
      },
      "file_extension": ".py",
      "mimetype": "text/x-python",
      "name": "python",
      "nbconvert_exporter": "python",
      "pygments_lexer": "ipython3",
      "version": "3.9.5"
    },
    "colab": {
      "provenance": [],
      "collapsed_sections": [
        "7030c93a",
        "e2d56911",
        "328a1c43",
        "a3876ce5",
        "2fa21a98"
      ],
      "include_colab_link": true
    }
  },
  "nbformat": 4,
  "nbformat_minor": 5
}